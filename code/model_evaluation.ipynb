{
 "cells": [
  {
   "cell_type": "code",
   "execution_count": 1,
   "id": "42680193",
   "metadata": {},
   "outputs": [],
   "source": [
    "import os\n",
    "import pickle as pk\n",
    "import seaborn as sns\n",
    "\n",
    "from sklearn.decomposition import PCA\n",
    "from sklearn.neighbors import KNeighborsClassifier\n",
    "from model import *"
   ]
  },
  {
   "cell_type": "code",
   "execution_count": 2,
   "id": "ece7eaec",
   "metadata": {},
   "outputs": [],
   "source": [
    "file_data = '..' + os.sep + 'data' + os.sep + 'meta_data' + os.sep + 'metadata_withmasks.csv'\n",
    "image_folder = '..' + os.sep + 'data' + os.sep + 'images' + os.sep + 'img' + os.sep\n",
    "mask_folder = '..' + os.sep + 'data' + os.sep + 'images' + os.sep + 'mask' + os.sep\n",
    "file_features = '..' + os.sep + 'data' + os.sep + 'feature_data' + os.sep + 'feature_data.csv'\n",
    "\n",
    "feature_names = ['mean_assymmetry', 'best_asymmetry', 'worst_asymmetry', 'red_var', \\\n",
    "    'green_var', 'blue_var', 'hue_var', 'sat_var', 'val_var', 'dom_hue', 'dom_sat', \\\n",
    "    'dom_val', 'compactness', 'convexity', 'F1', 'F2', 'F3', 'F10', 'F11', 'F12']"
   ]
  },
  {
   "cell_type": "code",
   "execution_count": 3,
   "id": "2d6f80b4",
   "metadata": {},
   "outputs": [],
   "source": [
    "# Metadata\n",
    "df = pd.read_csv(file_data)\n",
    "df = df[df['mask'] == 1]\n",
    "\n",
    "labels = df['diagnostic']\n",
    "\n",
    "# Feature data\n",
    "df_features = pd.read_csv(file_features)"
   ]
  },
  {
   "cell_type": "code",
   "execution_count": 4,
   "id": "6d14b7c1",
   "metadata": {},
   "outputs": [],
   "source": [
    "# X and y\n",
    "groups = df_features['patient_id']\n",
    "X = df_features[feature_names]\n",
    "y = (labels == 'BCC') | (labels == 'SCC') | (labels == 'MEL') "
   ]
  },
  {
   "cell_type": "code",
   "execution_count": 5,
   "id": "5c51c348",
   "metadata": {},
   "outputs": [],
   "source": [
    "accuracy_dict = {}\n",
    "sensitivity_dict = {}\n",
    "specificity_dict = {}\n",
    "precision_dict = {}\n",
    "roc_auc_dict = {}\n",
    "\n",
    "for i in range(1,11):\n",
    "\n",
    "    # Scaler\n",
    "    train_scaler(X)\n",
    "    X_scaled = apply_scalar(X)\n",
    "    \n",
    "    # PCA\n",
    "    train_pca(X_scaled)\n",
    "    X_transformed = apply_pca(X_scaled)\n",
    "    \n",
    "    # Feature selection\n",
    "    train_feature_selector(X_transformed, y, i)\n",
    "    X_transformed = apply_feature_selector(X_transformed)\n",
    "    \n",
    "    # Define classifiers\n",
    "    classifiers = [KNeighborsClassifier(n_neighbors=i) for i in range(1, 10, 2)]\n",
    "\n",
    "    # Cross Validate\n",
    "    cv_results = cross_validate_clf(X_transformed, y, classifiers, groups)\n",
    "    \n",
    "    accuracy_max = 0\n",
    "    clf_accuracy_max = None\n",
    "    sensitivity_max = 0\n",
    "    clf_sensitivity_max = None\n",
    "    specificity_max = 0\n",
    "    clf_specificity_max = None\n",
    "    precision_max = 0\n",
    "    clf_presision_max = None\n",
    "    roc_auc_max = 0\n",
    "    clf_roc_auc_max = None\n",
    "\n",
    "    for clf, scores in cv_results.items():\n",
    "        if scores['Accuracy'] > accuracy_max:\n",
    "            accuracy_max = scores['Accuracy']\n",
    "            clf_accuracy_max = clf\n",
    "        if scores['Sensitivity'] > sensitivity_max:\n",
    "            sensitivity_max = scores['Sensitivity']\n",
    "            clf_sensitivity_max = clf\n",
    "        if scores['Specificity'] > specificity_max:\n",
    "            specificity_max = scores['Specificity']\n",
    "            clf_specificity_max = clf\n",
    "        if scores['Precision'] > precision_max:\n",
    "            precision_max = scores['Precision']\n",
    "            clf_precision_max = clf\n",
    "        if scores['ROC AUC'] > roc_auc_max:\n",
    "            roc_auc_max = scores['ROC AUC']\n",
    "            clf_roc_auc_max = clf\n",
    "    \n",
    "    accuracy_dict[accuracy_max] = [i, clf_accuracy_max]\n",
    "    sensitivity_dict[sensitivity_max] = [i, clf_sensitivity_max]\n",
    "    specificity_dict[specificity_max] = [i, clf_specificity_max]\n",
    "    precision_dict[precision_max] = [i, clf_precision_max]\n",
    "    roc_auc_dict[roc_auc_max] = [i, clf_roc_auc_max]"
   ]
  },
  {
   "cell_type": "code",
   "execution_count": 6,
   "id": "7bd6c6d9",
   "metadata": {},
   "outputs": [],
   "source": [
    "results = pd.DataFrame(list(zip(accuracy_dict.keys(),sensitivity_dict.keys(),specificity_dict.keys(),precision_dict.keys(),roc_auc_dict.keys())),\n",
    "                      columns = ['Accuracy','Sensitivity','Specificity','Precision','ROC_AUC'],\n",
    "                      index=list(range(1,10)))"
   ]
  },
  {
   "cell_type": "code",
   "execution_count": 7,
   "id": "a1c3294e",
   "metadata": {},
   "outputs": [
    {
     "data": {
      "text/html": [
       "<div>\n",
       "<style scoped>\n",
       "    .dataframe tbody tr th:only-of-type {\n",
       "        vertical-align: middle;\n",
       "    }\n",
       "\n",
       "    .dataframe tbody tr th {\n",
       "        vertical-align: top;\n",
       "    }\n",
       "\n",
       "    .dataframe thead th {\n",
       "        text-align: right;\n",
       "    }\n",
       "</style>\n",
       "<table border=\"1\" class=\"dataframe\">\n",
       "  <thead>\n",
       "    <tr style=\"text-align: right;\">\n",
       "      <th></th>\n",
       "      <th>Accuracy</th>\n",
       "      <th>Sensitivity</th>\n",
       "      <th>Specificity</th>\n",
       "      <th>Precision</th>\n",
       "      <th>ROC_AUC</th>\n",
       "    </tr>\n",
       "  </thead>\n",
       "  <tbody>\n",
       "    <tr>\n",
       "      <th>1</th>\n",
       "      <td>0.705558</td>\n",
       "      <td>0.579336</td>\n",
       "      <td>0.782134</td>\n",
       "      <td>0.616566</td>\n",
       "      <td>0.704001</td>\n",
       "    </tr>\n",
       "    <tr>\n",
       "      <th>2</th>\n",
       "      <td>0.739338</td>\n",
       "      <td>0.618175</td>\n",
       "      <td>0.819863</td>\n",
       "      <td>0.677940</td>\n",
       "      <td>0.772539</td>\n",
       "    </tr>\n",
       "    <tr>\n",
       "      <th>3</th>\n",
       "      <td>0.765393</td>\n",
       "      <td>0.668100</td>\n",
       "      <td>0.824323</td>\n",
       "      <td>0.699160</td>\n",
       "      <td>0.815511</td>\n",
       "    </tr>\n",
       "    <tr>\n",
       "      <th>4</th>\n",
       "      <td>0.763869</td>\n",
       "      <td>0.695249</td>\n",
       "      <td>0.812421</td>\n",
       "      <td>0.687271</td>\n",
       "      <td>0.802752</td>\n",
       "    </tr>\n",
       "    <tr>\n",
       "      <th>5</th>\n",
       "      <td>0.733275</td>\n",
       "      <td>0.614103</td>\n",
       "      <td>0.826731</td>\n",
       "      <td>0.669588</td>\n",
       "      <td>0.784050</td>\n",
       "    </tr>\n",
       "    <tr>\n",
       "      <th>6</th>\n",
       "      <td>0.749291</td>\n",
       "      <td>0.625415</td>\n",
       "      <td>0.833789</td>\n",
       "      <td>0.685376</td>\n",
       "      <td>0.800039</td>\n",
       "    </tr>\n",
       "    <tr>\n",
       "      <th>7</th>\n",
       "      <td>0.718601</td>\n",
       "      <td>0.571267</td>\n",
       "      <td>0.821888</td>\n",
       "      <td>0.652606</td>\n",
       "      <td>0.789069</td>\n",
       "    </tr>\n",
       "    <tr>\n",
       "      <th>8</th>\n",
       "      <td>0.744922</td>\n",
       "      <td>0.567572</td>\n",
       "      <td>0.852394</td>\n",
       "      <td>0.700029</td>\n",
       "      <td>0.794646</td>\n",
       "    </tr>\n",
       "    <tr>\n",
       "      <th>9</th>\n",
       "      <td>0.733296</td>\n",
       "      <td>0.590422</td>\n",
       "      <td>0.838413</td>\n",
       "      <td>0.670892</td>\n",
       "      <td>0.781989</td>\n",
       "    </tr>\n",
       "  </tbody>\n",
       "</table>\n",
       "</div>"
      ],
      "text/plain": [
       "   Accuracy  Sensitivity  Specificity  Precision   ROC_AUC\n",
       "1  0.705558     0.579336     0.782134   0.616566  0.704001\n",
       "2  0.739338     0.618175     0.819863   0.677940  0.772539\n",
       "3  0.765393     0.668100     0.824323   0.699160  0.815511\n",
       "4  0.763869     0.695249     0.812421   0.687271  0.802752\n",
       "5  0.733275     0.614103     0.826731   0.669588  0.784050\n",
       "6  0.749291     0.625415     0.833789   0.685376  0.800039\n",
       "7  0.718601     0.571267     0.821888   0.652606  0.789069\n",
       "8  0.744922     0.567572     0.852394   0.700029  0.794646\n",
       "9  0.733296     0.590422     0.838413   0.670892  0.781989"
      ]
     },
     "execution_count": 7,
     "metadata": {},
     "output_type": "execute_result"
    }
   ],
   "source": [
    "results"
   ]
  },
  {
   "cell_type": "code",
   "execution_count": 8,
   "id": "c30f87aa",
   "metadata": {},
   "outputs": [],
   "source": [
    "results.insert(0, 'k', list(range(1,10)))\n",
    "results_ = results.melt('k', var_name = 'Metrics', value_name = 'Score')"
   ]
  },
  {
   "cell_type": "code",
   "execution_count": 9,
   "id": "6dc58d0d",
   "metadata": {},
   "outputs": [
    {
     "data": {
      "text/plain": [
       "<AxesSubplot:xlabel='k', ylabel='Score'>"
      ]
     },
     "execution_count": 9,
     "metadata": {},
     "output_type": "execute_result"
    },
    {
     "data": {
      "image/png": "[encoded data removed]",
      "text/plain": [
       "<Figure size 432x288 with 1 Axes>"
      ]
     },
     "metadata": {
      "needs_background": "light"
     },
     "output_type": "display_data"
    }
   ],
   "source": [
    "sns.lineplot(x='k', y='Score', hue='Metrics', data=results_)"
   ]
  },
  {
   "cell_type": "code",
   "execution_count": 10,
   "id": "d3afc949",
   "metadata": {},
   "outputs": [
    {
     "name": "stdout",
     "output_type": "stream",
     "text": [
      "Maximum accuracy score: 0.765 (features: 3, classifier: KNeighborsClassifier with n_neighbors=9)\n",
      "Maximum sensitivity score: 0.695 (features: 4, classifier: KNeighborsClassifier with n_neighbors=7)\n",
      "Maximum specificity score: 0.852 (features: 8, classifier: KNeighborsClassifier with n_neighbors=9)\n",
      "Maximum precision score: 0.7 (features: 8, classifier: KNeighborsClassifier with n_neighbors=9)\n",
      "Maximum roc auc score: 0.816 (features: 3, classifier: KNeighborsClassifier with n_neighbors=9)\n"
     ]
    }
   ],
   "source": [
    "print(f'Maximum accuracy score: {round(max(accuracy_dict),3)} (features: {accuracy_dict[max(accuracy_dict)][0]}, classifier: {accuracy_dict[max(accuracy_dict)][1]})')\n",
    "print(f'Maximum sensitivity score: {round(max(sensitivity_dict),3)} (features: {sensitivity_dict[max(sensitivity_dict)][0]}, classifier: {sensitivity_dict[max(sensitivity_dict)][1]})')\n",
    "print(f'Maximum specificity score: {round(max(specificity_dict),3)} (features: {specificity_dict[max(specificity_dict)][0]}, classifier: {specificity_dict[max(specificity_dict)][1]})')\n",
    "print(f'Maximum precision score: {round(max(precision_dict),3)} (features: {precision_dict[max(precision_dict)][0]}, classifier: {precision_dict[max(precision_dict)][1]})')\n",
    "print(f'Maximum roc auc score: {round(max(roc_auc_dict),3)} (features: {roc_auc_dict[max(roc_auc_dict)][0]}, classifier: {roc_auc_dict[max(roc_auc_dict)][1]})')"
   ]
  },
  {
   "attachments": {},
   "cell_type": "markdown",
   "id": "0aba6bf5",
   "metadata": {},
   "source": [
    "### Conclusion\n",
    "* **Select 4 best features**\n",
    "* **KNeighborsClassifier with n_neighbors=7**"
   ]
  },
  {
   "cell_type": "code",
   "execution_count": 11,
   "id": "cb51bfac",
   "metadata": {},
   "outputs": [],
   "source": [
    "train_scaler(X)\n",
    "X_scaled = apply_scalar(X)\n",
    "\n",
    "# PCA\n",
    "train_pca(X_scaled) #saves pca.pcl\n",
    "X_transformed = apply_pca(X_scaled)\n",
    "\n",
    "# Feature selection\n",
    "train_feature_selector(X_transformed, y, 4)\n",
    "X_transformed = apply_feature_selector(X_transformed)\n",
    "\n",
    "# Define classifiers\n",
    "classifiers = [KNeighborsClassifier(n_neighbors=7)]\n",
    "\n",
    "# Cross Validate\n",
    "cv_results = cross_validate_clf(X_transformed, y, classifiers, groups)"
   ]
  },
  {
   "cell_type": "code",
   "execution_count": 12,
   "id": "78c8e228",
   "metadata": {},
   "outputs": [
    {
     "data": {
      "text/plain": [
       "{'KNeighborsClassifier with n_neighbors=7': {'Accuracy': 0.7638692354123496,\n",
       "  'Sensitivity': 0.6952488687782805,\n",
       "  'Specificity': 0.8054719562243502,\n",
       "  'Precision': 0.6872710594072823,\n",
       "  'ROC AUC': 0.8027520463094213}}"
      ]
     },
     "execution_count": 12,
     "metadata": {},
     "output_type": "execute_result"
    }
   ],
   "source": [
    "cv_results"
   ]
  }
 ],
 "metadata": {
  "kernelspec": {
   "display_name": "Python 3 (ipykernel)",
   "language": "python",
   "name": "python3"
  },
  "language_info": {
   "codemirror_mode": {
    "name": "ipython",
    "version": 3
   },
   "file_extension": ".py",
   "mimetype": "text/x-python",
   "name": "python",
   "nbconvert_exporter": "python",
   "pygments_lexer": "ipython3",
   "version": "3.9.12"
  }
 },
 "nbformat": 4,
 "nbformat_minor": 5
}
