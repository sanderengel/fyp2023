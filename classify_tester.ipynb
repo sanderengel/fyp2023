{
 "cells": [
  {
   "cell_type": "code",
   "execution_count": 2,
   "metadata": {},
   "outputs": [
    {
     "ename": "ModuleNotFoundError",
     "evalue": "No module named 'asymmetry'",
     "output_type": "error",
     "traceback": [
      "\u001b[0;31m---------------------------------------------------------------------------\u001b[0m",
      "\u001b[0;31mModuleNotFoundError\u001b[0m                       Traceback (most recent call last)",
      "\u001b[1;32m/Users/sanderengelthilo/Documents/ITU/first_year_project/project_2_submit/classify_tester.ipynb Cell 1\u001b[0m in \u001b[0;36m<cell line: 2>\u001b[0;34m()\u001b[0m\n\u001b[1;32m      <a href='vscode-notebook-cell:/Users/sanderengelthilo/Documents/ITU/first_year_project/project_2_submit/classify_tester.ipynb#W0sZmlsZQ%3D%3D?line=0'>1</a>\u001b[0m \u001b[39m#from classify import classify\u001b[39;00m\n\u001b[0;32m----> <a href='vscode-notebook-cell:/Users/sanderengelthilo/Documents/ITU/first_year_project/project_2_submit/classify_tester.ipynb#W0sZmlsZQ%3D%3D?line=1'>2</a>\u001b[0m \u001b[39mimport\u001b[39;00m \u001b[39mcode_\u001b[39;00m\u001b[39m.\u001b[39;00m\u001b[39mextract_features\u001b[39;00m\n",
      "File \u001b[0;32m~/Documents/ITU/first_year_project/project_2_submit/code_/extract_features.py:1\u001b[0m, in \u001b[0;36m<module>\u001b[0;34m\u001b[0m\n\u001b[0;32m----> 1\u001b[0m \u001b[39mfrom\u001b[39;00m \u001b[39masymmetry\u001b[39;00m \u001b[39mimport\u001b[39;00m mean_asymmetry, best_asymmetry, worst_asymmetry\n\u001b[1;32m      2\u001b[0m \u001b[39mfrom\u001b[39;00m \u001b[39mcolor\u001b[39;00m \u001b[39mimport\u001b[39;00m slic_segmentation, rgb_var, hsv_var, color_dominance, get_relative_rgb_means\n\u001b[1;32m      3\u001b[0m \u001b[39mfrom\u001b[39;00m \u001b[39mcompactness\u001b[39;00m \u001b[39mimport\u001b[39;00m compactness_score\n",
      "\u001b[0;31mModuleNotFoundError\u001b[0m: No module named 'asymmetry'"
     ]
    }
   ],
   "source": [
    "#from classify import classify\n",
    "import code_.extract_features"
   ]
  }
 ],
 "metadata": {
  "kernelspec": {
   "display_name": "base",
   "language": "python",
   "name": "python3"
  },
  "language_info": {
   "codemirror_mode": {
    "name": "ipython",
    "version": 3
   },
   "file_extension": ".py",
   "mimetype": "text/x-python",
   "name": "python",
   "nbconvert_exporter": "python",
   "pygments_lexer": "ipython3",
   "version": "3.9.12"
  },
  "orig_nbformat": 4
 },
 "nbformat": 4,
 "nbformat_minor": 2
}
